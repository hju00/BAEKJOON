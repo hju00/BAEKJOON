{
  "nbformat": 4,
  "nbformat_minor": 0,
  "metadata": {
    "colab": {
      "provenance": [],
      "include_colab_link": true
    },
    "kernelspec": {
      "name": "python3",
      "display_name": "Python 3"
    },
    "language_info": {
      "name": "python"
    }
  },
  "cells": [
    {
      "cell_type": "markdown",
      "metadata": {
        "id": "view-in-github",
        "colab_type": "text"
      },
      "source": [
        "<a href=\"https://colab.research.google.com/github/hju00/BAEKJOON/blob/master/Midterm_AI%ED%94%84%EB%A1%9C%EA%B7%B8%EB%9E%98%EB%B0%8D.ipynb\" target=\"_parent\"><img src=\"https://colab.research.google.com/assets/colab-badge.svg\" alt=\"Open In Colab\"/></a>"
      ]
    },
    {
      "cell_type": "markdown",
      "source": [
        "# AI Programming\n",
        "## Midterm Exam\n",
        "\n",
        "### 각 문제를 풀어 문제 별 Code block에 작성한 뒤 실행하여 출력이 남아있는 상태로 저장 한 뒤 PLATO에 제출하세요.\n",
        "### 반드시 내 Drive에 복사 후 시험을 시작 하시기 바랍니다.\n",
        "### 반드시 첫 번째 Code block에 학번과 이름을 기입하세요.\n",
        "### 본 파일에 정의된 함수와 클래스를 바탕으로 평가 코드를 따로 작성하여 프로그래밍 문제 채점을 실시합니다. 제출한 코드는 본 문제에 제공된 예시 코드 뿐 아니라 일반적인 상황에서 동작이 보장 되어야 합니다. 문제에 제공 된 예시 이외의 경우에 채점 중 오류가 발생 할 경우 감점 됩니다."
      ],
      "metadata": {
        "id": "WjZ1IcFdwUvC"
      }
    },
    {
      "cell_type": "code",
      "source": [
        "# Your student ID\n",
        "STUDENT_ID =\n",
        "\n",
        "# Your name in english\n",
        "STUDENT_NAME_IN_ENGLISH ="
      ],
      "metadata": {
        "id": "Q9H6M-33wpZI"
      },
      "execution_count": null,
      "outputs": []
    },
    {
      "cell_type": "markdown",
      "source": [
        "### Fill in the blanks in the following programs or functions to make them work correctly.\n",
        "### A blank is defined as a block wrapped by ## BLANK START ~ ## BLANK END\n",
        "### You are not allowed to add or modify codes outside of blanks\n",
        "### If [RUN] is provided, the output is execution output example.\n",
        "\n",
        "### 프로그램 또는 함수가 정확히 동작 할 수 있도록 빈칸(Blank)을 완성하세요.\n",
        "### Blank는 ## BLANK START ~ ## BLANK END 로 표시 된 영역을 의미합니다.\n",
        "### Blank 외부의 소스 코드를 변경 또는 추가 할 수 없습니다.\n",
        "### [RUN]이 제공 된 경우, 프로그램 실행 후의 출력 예시 입니다."
      ],
      "metadata": {
        "id": "6_kjhpBbxQON"
      }
    },
    {
      "cell_type": "code",
      "source": [
        "# [1pt]\n",
        "def maximum(x, y):\n",
        "  \"\"\"\n",
        "    maximum returns x if x is equal to or greater than y. Otherwise, it returns y\n",
        "  \"\"\"\n",
        "  ## BLANK START\n",
        "\n",
        "\n",
        "  ## BLANK END\n",
        "  else:\n",
        "    return y"
      ],
      "metadata": {
        "id": "USCeefHkw1OY"
      },
      "execution_count": null,
      "outputs": []
    },
    {
      "cell_type": "code",
      "source": [
        "# [1pt]\n",
        "def numVowels(word):\n",
        "  \"\"\"\n",
        "    numVowels counts the number of vowels in word\n",
        "  \"\"\"\n",
        "  ## BLANK START\n",
        "\n",
        "\n",
        "  ## BLANK END"
      ],
      "metadata": {
        "id": "30ZVSj6GytQQ"
      },
      "execution_count": null,
      "outputs": []
    },
    {
      "cell_type": "code",
      "source": [
        "# [1pt]\n",
        "def print_bts(names):\n",
        "  \"\"\"\n",
        "    print_bts prints names variable after sorting it in descending order\n",
        "  \"\"\"\n",
        "  ## BLANK START\n",
        "\n",
        "\n",
        "\n",
        "  ## BLANK END\n",
        "\n",
        "bts = ['Jungkook', 'Jin', 'V', 'RM', 'Jimin', 'JHope', 'Suga']\n",
        "print_bts(bts)\n",
        "\n",
        "### [RUN]\n",
        "# ['V', 'Suga', 'RM', 'Jungkook', 'Jin', 'Jimin', 'JHope']"
      ],
      "metadata": {
        "id": "T8a2Vu2xzXCk",
        "colab": {
          "base_uri": "https://localhost:8080/"
        },
        "outputId": "39ff2ee8-845a-4bdc-95d2-de4891dafbce"
      },
      "execution_count": null,
      "outputs": [
        {
          "output_type": "execute_result",
          "data": {
            "text/plain": [
              "['JHope', 'Jimin', 'Jin', 'Jungkook', 'RM', 'Suga', 'V']"
            ]
          },
          "metadata": {},
          "execution_count": 4
        }
      ]
    },
    {
      "cell_type": "code",
      "source": [
        "# [1pt]\n",
        "# admissionFee1 and admissionFee2 must do the same job\n",
        "def admissionFee1(name):\n",
        "  if name == \"child\":\n",
        "    return 0\n",
        "  elif name == \"adult\":\n",
        "    return 5\n",
        "  elif name == \"student\":\n",
        "    return 3\n",
        "\n",
        "def admissionFee2(name):\n",
        "  \"\"\"\n",
        "    admissionFee2 does exactly the same job compared to admissionFee1\n",
        "  \"\"\"\n",
        "  ## BLANK START\n",
        "\n",
        "\n",
        "  ## BLANK END\n",
        "  return fee[name]"
      ],
      "metadata": {
        "id": "RU8BeK8q0Bnv"
      },
      "execution_count": null,
      "outputs": []
    },
    {
      "cell_type": "code",
      "source": [
        "# [2pt]\n",
        "def count_words(words):\n",
        "  \"\"\"\n",
        "    count_words counts the number of occurences of words in\n",
        "    lexicographical order\n",
        "  \"\"\"\n",
        "  ## BLANK START\n",
        "\n",
        "\n",
        "\n",
        "\n",
        "\n",
        "  ## BLANK END\n",
        "\n",
        "random_words = [\"there\", \"the\", \"a\", \"that\", \"there\", \"that\", \"the\", \"a\", \"a\", \"there\", \"that\", \"there\", \"a\", \"there\"]\n",
        "\n",
        "count_words(random_words)\n",
        "\n",
        "### [RUN]\n",
        "# a:4\n",
        "# that:3\n",
        "# the:2\n",
        "# there:5"
      ],
      "metadata": {
        "id": "tPzOeAsZ09mF"
      },
      "execution_count": null,
      "outputs": []
    },
    {
      "cell_type": "code",
      "source": [
        "# [2pt]\n",
        "# DO NOT MODIFY THIS GLOBAL VARIABLE\n",
        "num_recursive_call = 0\n",
        "\n",
        "def isPalindrome(word):\n",
        "  \"\"\"\n",
        "    isPalindrome checks whether the input is palindrome or not\n",
        "    the number of recursive call is counted using a global variable\n",
        "  \"\"\"\n",
        "  global num_recursive_call\n",
        "  num_recursive_call += 1\n",
        "  ## BLANK START\n",
        "\n",
        "\n",
        "\n",
        "  ## BLANK END\n",
        "\n",
        "print(isPalindrome(\"abcdcba\"))\n",
        "print(num_recursive_call)\n",
        "num_recursive_call = 0\n",
        "print(isPalindrome(\"aabb\"))\n",
        "print(num_recursive_call)\n",
        "num_recursive_call = 0\n",
        "\n",
        "### [RUN]\n",
        "# True\n",
        "# 4\n",
        "# False\n",
        "# 1"
      ],
      "metadata": {
        "id": "tEEl6M8p1aEt"
      },
      "execution_count": null,
      "outputs": []
    },
    {
      "cell_type": "code",
      "source": [
        "# [3pt]\n",
        "class A:\n",
        "  \"\"\"\n",
        "    Base class that B and C will inherit\n",
        "  \"\"\"\n",
        "  def __init__(self, a=\"\", b=\"\"):\n",
        "    self._a = a\n",
        "    self._b = b\n",
        "\n",
        "  def info(self):\n",
        "    print(\"Class A, a: {}, b: {}\".format(self._a, self._b))\n",
        "\n",
        "## BLANK START\n",
        "\n",
        "\n",
        "\n",
        "\n",
        "\n",
        "## BLANK END\n",
        "\n",
        "clsA = A(1, 2)\n",
        "clsB = B(3, 4, 5)\n",
        "clsC = C(6, 7, 8, 9)\n",
        "\n",
        "clsA.info()\n",
        "clsB.info()\n",
        "clsC.info()\n",
        "\n",
        "print(isinstance(clsC, A))\n",
        "print(isinstance(clsC, B))\n",
        "print(isinstance(clsC, C))\n",
        "\n",
        "### [RUN]\n",
        "# Class A, a: 1, b: 2\n",
        "# Class B, a: 3, b: 4, c: 5\n",
        "# Class C, a: 6, b: 7, c: 8, d: 9\n",
        "# True\n",
        "# True\n",
        "# True"
      ],
      "metadata": {
        "id": "qmtXRsoo42cA",
        "colab": {
          "base_uri": "https://localhost:8080/"
        },
        "outputId": "4bccd820-fefd-43a4-c0ac-9f377b15c09d"
      },
      "execution_count": null,
      "outputs": [
        {
          "output_type": "stream",
          "name": "stdout",
          "text": [
            "Class A, a: 1, b: 2\n",
            "Class A, a: 3, b: 4 c: 5\n",
            "Class A, a: 6, b: 7 c: 8 d: 9\n",
            "True\n",
            "True\n",
            "True\n"
          ]
        }
      ]
    },
    {
      "cell_type": "code",
      "source": [
        "# [2pt]\n",
        "def calculate_exp(exp1, exp2, exp3):\n",
        "  \"\"\"\n",
        "    calculate_exp calculates the result value and return it\n",
        "    using a sequence of string expressions exp1, exp2, and exp3\n",
        "  \"\"\"\n",
        "  ## BLANK START\n",
        "\n",
        "\n",
        "\n",
        "  ## BLANK END\n",
        "\n",
        "exp1 = 'x = 5'\n",
        "exp2 = 'y = -3'\n",
        "exp3 = 'x + y'\n",
        "print(calculate_exp(exp1, exp2, exp3))\n",
        "\n",
        "exp1 = 'a = 2'\n",
        "exp2 = 'b = -1'\n",
        "exp3 = 'a**b'\n",
        "print(calculate_exp(exp1, exp2, exp3))\n",
        "\n",
        "### [RUN]\n",
        "# 2\n",
        "# 0.5"
      ],
      "metadata": {
        "id": "ekVKNY4v8fjD",
        "colab": {
          "base_uri": "https://localhost:8080/",
          "height": 339
        },
        "outputId": "efaf4104-7915-4156-9635-30f90053a76f"
      },
      "execution_count": null,
      "outputs": [
        {
          "output_type": "error",
          "ename": "SyntaxError",
          "evalue": "ignored",
          "traceback": [
            "Traceback \u001b[0;36m(most recent call last)\u001b[0m:\n",
            "  File \u001b[1;32m\"/usr/local/lib/python3.7/dist-packages/IPython/core/interactiveshell.py\"\u001b[0m, line \u001b[1;32m3326\u001b[0m, in \u001b[1;35mrun_code\u001b[0m\n    exec(code_obj, self.user_global_ns, self.user_ns)\n",
            "  File \u001b[1;32m\"<ipython-input-17-ad29e212c81b>\"\u001b[0m, line \u001b[1;32m18\u001b[0m, in \u001b[1;35m<module>\u001b[0m\n    print(calculate_exp(exp1, exp2, exp3))\n",
            "\u001b[0;36m  File \u001b[0;32m\"<ipython-input-17-ad29e212c81b>\"\u001b[0;36m, line \u001b[0;32m8\u001b[0;36m, in \u001b[0;35mcalculate_exp\u001b[0;36m\u001b[0m\n\u001b[0;31m    eval(exp1)\u001b[0m\n",
            "\u001b[0;36m  File \u001b[0;32m\"<string>\"\u001b[0;36m, line \u001b[0;32m1\u001b[0m\n\u001b[0;31m    x = 5\u001b[0m\n\u001b[0m      ^\u001b[0m\n\u001b[0;31mSyntaxError\u001b[0m\u001b[0;31m:\u001b[0m invalid syntax\n"
          ]
        }
      ]
    },
    {
      "cell_type": "code",
      "source": [
        "# [2pt]\n",
        "def print_with_formats(a=1, b=3.14, c='abc'):\n",
        "  \"\"\"\n",
        "    print_with_formats prints three values with specific formats\n",
        "  \"\"\"\n",
        "  ## BLANK START\n",
        "\n",
        "\n",
        "\n",
        "  ## BLANK END\n",
        "\n",
        "print_with_formats()\n",
        "print_with_formats(123, 2.71828, 'hi')\n",
        "print_with_formats(99, 6.712, 'aip')"
      ],
      "metadata": {
        "id": "2InpwdnX-aqQ"
      },
      "execution_count": null,
      "outputs": []
    },
    {
      "cell_type": "code",
      "source": [
        "# [4pt]\n",
        "def sort_by_second_element(words):\n",
        "  \"\"\"\n",
        "    sort_by_second_element sorts elements based on the second character\n",
        "    of a word in descending order\n",
        "  \"\"\"\n",
        "  words.sort(\n",
        "  ## BLANK START\n",
        "\n",
        "\n",
        "\n",
        "  ## BLANK END\n",
        "  )\n",
        "  print(words)\n",
        "\n",
        "list_words = ['rhythm', 'zebra', 'banana', 'abroad', 'algorithm']\n",
        "sort_by_second_element(list_words)\n",
        "\n",
        "### [RUN]\n",
        "# ['algorithm', 'rhythm', 'zebra', 'abroad', 'banana']"
      ],
      "metadata": {
        "id": "i0Hs4bt9-aog"
      },
      "execution_count": null,
      "outputs": []
    },
    {
      "cell_type": "code",
      "source": [
        "# [4pt]\n",
        "## DO NOT MODIFY\n",
        "import os\n",
        "if os.path.isfile('UN.txt'):\n",
        "  os.remove('UN.txt')\n",
        "# You may follow the link to check file contents\n",
        "!wget https://raw.githubusercontent.com/pnu-viplab/lecture_assets/main/UN.txt &> /dev/null\n",
        "## DO NOT MODIFY\n",
        "\n",
        "def parse_csv_file(path_file, cont='Europe'):\n",
        "  \"\"\"\n",
        "    parse_csv_file reads a csv file then prints names of countries that\n",
        "    belong to the specified continent\n",
        "  \"\"\"\n",
        "  ## BLANK START\n",
        "\n",
        "\n",
        "\n",
        "  ## BLANK END\n",
        "\n",
        "parse_csv_file('UN.txt', 'Asia')\n",
        "\n",
        "### [RUN]\n",
        "# Afghanistan\n",
        "# Armenia\n",
        "# Azerbaijan\n",
        "# ...\n",
        "# Yemen"
      ],
      "metadata": {
        "id": "UrkcNEX0-al7"
      },
      "execution_count": null,
      "outputs": []
    },
    {
      "cell_type": "code",
      "source": [
        "# [3pt]\n",
        "import numpy as np\n",
        "\n",
        "def generate_five_arrays():\n",
        "  \"\"\"\n",
        "    generate_five_arrays generates five specific arrays\n",
        "    shown in the output examples\n",
        "  \"\"\"\n",
        "  ## BLANK START\n",
        "\n",
        "\n",
        "\n",
        "\n",
        "\n",
        "  ## BLANK END\n",
        "\n",
        "a, b, c, d, e = generate_five_arrays()\n",
        "\n",
        "print(a)\n",
        "print()\n",
        "print(b)\n",
        "print()\n",
        "print(c)\n",
        "print()\n",
        "print(d)\n",
        "print()\n",
        "print(e)\n",
        "\n",
        "### [RUN]\n",
        "# [1 2 3]\n",
        "#\n",
        "# [[ 0  2]\n",
        "#  [ 5 -1]]\n",
        "#\n",
        "# [[1. 0. 0. 0. 0.]\n",
        "#  [0. 1. 0. 0. 0.]\n",
        "#  [0. 0. 1. 0. 0.]\n",
        "#  [0. 0. 0. 1. 0.]\n",
        "#  [0. 0. 0. 0. 1.]]\n",
        "#\n",
        "# [[0. 0. 0.]\n",
        "#  [0. 0. 0.]\n",
        "#  [0. 0. 0.]\n",
        "#  [0. 0. 0.]]\n",
        "#\n",
        "# [[1. 1.]\n",
        "#  [1. 1.]\n",
        "#  [1. 1.]]"
      ],
      "metadata": {
        "id": "bNdreuvT-ajs",
        "colab": {
          "base_uri": "https://localhost:8080/",
          "height": 376
        },
        "outputId": "66e6a672-6012-4f68-cc76-e08c4f218248"
      },
      "execution_count": null,
      "outputs": [
        {
          "output_type": "error",
          "ename": "TypeError",
          "evalue": "ignored",
          "traceback": [
            "\u001b[0;31m---------------------------------------------------------------------------\u001b[0m",
            "\u001b[0;31mTypeError\u001b[0m                                 Traceback (most recent call last)",
            "\u001b[0;32m<ipython-input-14-98c3469c4143>\u001b[0m in \u001b[0;36m<module>\u001b[0;34m\u001b[0m\n\u001b[1;32m     23\u001b[0m   \u001b[0;31m## BLANK END\u001b[0m\u001b[0;34m\u001b[0m\u001b[0;34m\u001b[0m\u001b[0;34m\u001b[0m\u001b[0m\n\u001b[1;32m     24\u001b[0m \u001b[0;34m\u001b[0m\u001b[0m\n\u001b[0;32m---> 25\u001b[0;31m \u001b[0ma\u001b[0m\u001b[0;34m,\u001b[0m \u001b[0mb\u001b[0m\u001b[0;34m,\u001b[0m \u001b[0mc\u001b[0m\u001b[0;34m,\u001b[0m \u001b[0md\u001b[0m\u001b[0;34m,\u001b[0m \u001b[0me\u001b[0m \u001b[0;34m=\u001b[0m \u001b[0mgenerate_five_arrays\u001b[0m\u001b[0;34m(\u001b[0m\u001b[0;34m)\u001b[0m\u001b[0;34m\u001b[0m\u001b[0;34m\u001b[0m\u001b[0m\n\u001b[0m\u001b[1;32m     26\u001b[0m \u001b[0;34m\u001b[0m\u001b[0m\n\u001b[1;32m     27\u001b[0m \u001b[0mprint\u001b[0m\u001b[0;34m(\u001b[0m\u001b[0ma\u001b[0m\u001b[0;34m)\u001b[0m\u001b[0;34m\u001b[0m\u001b[0;34m\u001b[0m\u001b[0m\n",
            "\u001b[0;32m<ipython-input-14-98c3469c4143>\u001b[0m in \u001b[0;36mgenerate_five_arrays\u001b[0;34m()\u001b[0m\n\u001b[1;32m      9\u001b[0m   \u001b[0;31m## BLANK START\u001b[0m\u001b[0;34m\u001b[0m\u001b[0;34m\u001b[0m\u001b[0;34m\u001b[0m\u001b[0m\n\u001b[1;32m     10\u001b[0m   \u001b[0ma\u001b[0m \u001b[0;34m=\u001b[0m \u001b[0mnp\u001b[0m\u001b[0;34m.\u001b[0m\u001b[0marray\u001b[0m\u001b[0;34m(\u001b[0m\u001b[0;34m[\u001b[0m\u001b[0;36m1\u001b[0m\u001b[0;34m,\u001b[0m \u001b[0;36m2\u001b[0m\u001b[0;34m,\u001b[0m \u001b[0;36m3\u001b[0m\u001b[0;34m]\u001b[0m\u001b[0;34m)\u001b[0m\u001b[0;34m\u001b[0m\u001b[0;34m\u001b[0m\u001b[0m\n\u001b[0;32m---> 11\u001b[0;31m   \u001b[0mb\u001b[0m \u001b[0;34m=\u001b[0m \u001b[0mnp\u001b[0m\u001b[0;34m.\u001b[0m\u001b[0marray\u001b[0m\u001b[0;34m(\u001b[0m\u001b[0;34m[\u001b[0m\u001b[0;36m0\u001b[0m\u001b[0;34m,\u001b[0m \u001b[0;36m2\u001b[0m\u001b[0;34m]\u001b[0m\u001b[0;34m,\u001b[0m \u001b[0;34m[\u001b[0m\u001b[0;36m5\u001b[0m\u001b[0;34m,\u001b[0m \u001b[0;34m-\u001b[0m\u001b[0;36m1\u001b[0m\u001b[0;34m]\u001b[0m\u001b[0;34m)\u001b[0m\u001b[0;34m\u001b[0m\u001b[0;34m\u001b[0m\u001b[0m\n\u001b[0m\u001b[1;32m     12\u001b[0m   c = np.array([1, 0, 0, 0, 0], \n\u001b[1;32m     13\u001b[0m                \u001b[0;34m[\u001b[0m\u001b[0;36m0\u001b[0m\u001b[0;34m,\u001b[0m \u001b[0;36m1\u001b[0m\u001b[0;34m,\u001b[0m \u001b[0;36m0\u001b[0m\u001b[0;34m,\u001b[0m \u001b[0;36m0\u001b[0m\u001b[0;34m,\u001b[0m \u001b[0;36m0\u001b[0m\u001b[0;34m]\u001b[0m\u001b[0;34m,\u001b[0m\u001b[0;34m\u001b[0m\u001b[0;34m\u001b[0m\u001b[0m\n",
            "\u001b[0;31mTypeError\u001b[0m: Field elements must be 2- or 3-tuples, got '5'"
          ]
        }
      ]
    },
    {
      "cell_type": "code",
      "source": [
        "# [3pt]\n",
        "import numpy as np\n",
        "\n",
        "def do_some_linear_algebra(M):\n",
        "  \"\"\"\n",
        "    do_some_linear_algebra calculates transpose, determinent, eigen values,\n",
        "    and eigen vectors of the matrix M\n",
        "  \"\"\"\n",
        "  ## BLANK START\n",
        "\n",
        "\n",
        "\n",
        "  ## BLANK END\n",
        "\n",
        "M = np.array([[1, 2], [3, 4]])\n",
        "\n",
        "M_t, M_det, e_val, e_vec = do_some_linear_algebra(M)\n",
        "\n",
        "print('M:')\n",
        "print(M)\n",
        "print('Transpose:')\n",
        "print(M_t)\n",
        "print('Determinent:')\n",
        "print(M_det)\n",
        "print('Eigen values:')\n",
        "print(e_val)\n",
        "print('Eigen vectors:')\n",
        "print(e_vec)\n",
        "\n",
        "### [RUN]\n",
        "# M:\n",
        "# [[1 2]\n",
        "#  [3 4]]\n",
        "# Transpose:\n",
        "# [[1 3]\n",
        "#  [2 4]]\n",
        "# Determinent:\n",
        "# -2.0000000000000004\n",
        "# Eigen values:\n",
        "# [-0.37228132  5.37228132]\n",
        "# Eigen vectors:\n",
        "# [[-0.82456484 -0.41597356]\n",
        "#  [ 0.56576746 -0.90937671]]"
      ],
      "metadata": {
        "id": "kR0o5MN9-ahe"
      },
      "execution_count": null,
      "outputs": []
    },
    {
      "cell_type": "code",
      "source": [
        "# [3pt]\n",
        "from matplotlib import pyplot as plt\n",
        "\n",
        "x = [1, 2, 3, 4, 5]\n",
        "y1 = [2, 4, 6, 8, 10]\n",
        "y2 = [0.7, 0.8, 2.2, 9.3, 7.4]\n",
        "\n",
        "def plot_my_figure(x1, y1, x2, y2, xlabel='', ylabel='', title='', legend='', grid=False):\n",
        "  \"\"\"\n",
        "    plot_my_figure draws a plot given various arguments\n",
        "  \"\"\"\n",
        "  ## BLANK START\n",
        "\n",
        "\n",
        "\n",
        "\n",
        "\n",
        "  ## BLANK END\n",
        "\n",
        "# Draw the same plot as shown in [RUN] example below\n",
        "plot_my_figure(\n",
        "  ## BLANK START\n",
        "  x, y1, x, y2, 'x', 'y', 'data', 'y1 y2', True\n",
        "\n",
        "\n",
        "  ## BLANK END\n",
        ")\n",
        "\n",
        "\n"
      ],
      "metadata": {
        "id": "c3jOUK9P-ae5",
        "colab": {
          "base_uri": "https://localhost:8080/",
          "height": 295
        },
        "outputId": "84ac4c8b-f23f-4d84-bf2b-cb7740013774"
      },
      "execution_count": null,
      "outputs": [
        {
          "output_type": "display_data",
          "data": {
            "text/plain": [
              "<Figure size 432x288 with 1 Axes>"
            ],
            "image/png": "[encoded data removed]"
          },
          "metadata": {
            "needs_background": "light"
          }
        }
      ]
    },
    {
      "cell_type": "markdown",
      "source": [
        "[RUN]\n",
        "\n",
        "![image.png](data:image/png;base64,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)"
      ],
      "metadata": {
        "id": "ZTAGMh9LNH_W"
      }
    },
    {
      "cell_type": "code",
      "source": [
        "# [10pt]\n",
        "import numpy as np\n",
        "\n",
        "def solve_lin_eq(prob):\n",
        "  \"\"\"\n",
        "    solve_lin_eq solves a system of linear equations\n",
        "    It must be able to deal with arbitrary number of variables\n",
        "    Assume that coefficients, operators, variables, and constants are\n",
        "    always separated by a single space.\n",
        "  \"\"\"\n",
        "  ## BLANK START\n",
        "\n",
        "\n",
        "\n",
        "  ## BLANK END\n",
        "  return sol\n",
        "\n",
        "# Assume that coefficients, operators, variables, and constants are\n",
        "# always separated by a single space.\n",
        "prob1 = ['1 * x0 + 2 * x1 = 1', '3 * x0 + 5 * x1 = 2']\n",
        "prob2 = ['1 * x0 + 1 * x1 + 1 * x2 = 4', '1 * x0 - 1 * x1 - 2 * x2 = 3', '3 * x0 + 6 * x1 - 9 * x3 = -3']\n",
        "\n",
        "print(solve_lin_eq(prob1))\n",
        "print(solve_lin_eq(prob2))\n",
        "\n",
        "### [RUN]\n",
        "# [-1.  1.]\n",
        "# [ 4. -1.  1.]"
      ],
      "metadata": {
        "id": "YtEWa548-aU1"
      },
      "execution_count": null,
      "outputs": []
    }
  ]
}